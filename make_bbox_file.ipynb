{
 "cells": [
  {
   "cell_type": "code",
   "execution_count": 1,
   "id": "75922026",
   "metadata": {},
   "outputs": [],
   "source": [
    "import os\n",
    "import json\n",
    "from collections import OrderedDict"
   ]
  },
  {
   "cell_type": "code",
   "execution_count": 3,
   "id": "5d1b82ce",
   "metadata": {},
   "outputs": [],
   "source": [
    "path_dir = 'new_pose_2/val/Model-Pose_f' #Parse 폴더에서 파일명 불러오기\n",
    "file_list_val = os.listdir(path_dir)\n",
    "file_list_val.sort()"
   ]
  },
  {
   "cell_type": "code",
   "execution_count": 4,
   "id": "cca0eec5",
   "metadata": {},
   "outputs": [],
   "source": [
    "VAL_SIZE = len(file_list_val)"
   ]
  },
  {
   "cell_type": "code",
   "execution_count": 5,
   "id": "7f63baf2",
   "metadata": {},
   "outputs": [],
   "source": [
    "file_data = OrderedDict()"
   ]
  },
  {
   "cell_type": "code",
   "execution_count": 6,
   "id": "ad7fcfcd",
   "metadata": {},
   "outputs": [],
   "source": [
    "image_list = []\n",
    "\n",
    "for i in range(VAL_SIZE):\n",
    "        with open(path_dir +'/'+ file_list_val[i], \"r\") as st_json:\n",
    "            load_data = json.load(st_json)\n",
    "        image_list.append( {'bbox':[0,0,720,1280], 'category_id':1, 'image_id':(i+200000), 'score':2})"
   ]
  },
  {
   "cell_type": "code",
   "execution_count": 7,
   "id": "024c4b4d",
   "metadata": {},
   "outputs": [],
   "source": [
    "file_data = image_list"
   ]
  },
  {
   "cell_type": "code",
   "execution_count": 8,
   "id": "6cb24cad",
   "metadata": {},
   "outputs": [],
   "source": [
    "with open('bbox.json', \"w\", encoding=\"UTF-8\") as st_json:\n",
    "            json.dump(file_data, st_json, indent='\\t')"
   ]
  }
 ],
 "metadata": {
  "kernelspec": {
   "display_name": "Python 3 (ipykernel)",
   "language": "python",
   "name": "python3"
  },
  "language_info": {
   "codemirror_mode": {
    "name": "ipython",
    "version": 3
   },
   "file_extension": ".py",
   "mimetype": "text/x-python",
   "name": "python",
   "nbconvert_exporter": "python",
   "pygments_lexer": "ipython3",
   "version": "3.8.10"
  }
 },
 "nbformat": 4,
 "nbformat_minor": 5
}
