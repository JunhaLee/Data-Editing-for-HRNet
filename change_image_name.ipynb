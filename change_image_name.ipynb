{
 "cells": [
  {
   "cell_type": "code",
   "execution_count": 28,
   "id": "c1ff8ea8",
   "metadata": {},
   "outputs": [],
   "source": [
    "import os\n",
    "import json\n",
    "from collections import OrderedDict"
   ]
  },
  {
   "cell_type": "code",
   "execution_count": 29,
   "id": "d496cecf",
   "metadata": {},
   "outputs": [],
   "source": [
    "path_dir = 'new_pose_2/val/Model-Pose_f' #Parse 폴더에서 파일명 불러오기\n",
    "file_list_train = os.listdir(path_dir)\n",
    "file_list_train.sort()"
   ]
  },
  {
   "cell_type": "code",
   "execution_count": 30,
   "id": "adc4ccf1",
   "metadata": {},
   "outputs": [
    {
     "data": {
      "text/plain": [
       "11629"
      ]
     },
     "execution_count": 30,
     "metadata": {},
     "output_type": "execute_result"
    }
   ],
   "source": [
    "len(file_list_train)"
   ]
  },
  {
   "cell_type": "code",
   "execution_count": 33,
   "id": "46194fc5",
   "metadata": {},
   "outputs": [],
   "source": [
    "for i in range(len(file_list_train)):\n",
    "    str = file_list_train[i].split('.')[0]\n",
    "    file_oldname = os.path.join(\"Model-Image\", str+\".jpg\")\n",
    "    file_newname_newfile = os.path.join(\"new_name/val\", '%012d.jpg' % (i+200000))\n",
    "    os.rename(file_oldname, file_newname_newfile)"
   ]
  }
 ],
 "metadata": {
  "kernelspec": {
   "display_name": "Python 3 (ipykernel)",
   "language": "python",
   "name": "python3"
  },
  "language_info": {
   "codemirror_mode": {
    "name": "ipython",
    "version": 3
   },
   "file_extension": ".py",
   "mimetype": "text/x-python",
   "name": "python",
   "nbconvert_exporter": "python",
   "pygments_lexer": "ipython3",
   "version": "3.8.10"
  }
 },
 "nbformat": 4,
 "nbformat_minor": 5
}
