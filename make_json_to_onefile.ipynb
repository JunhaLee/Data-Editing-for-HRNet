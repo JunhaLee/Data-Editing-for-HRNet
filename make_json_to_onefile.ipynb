{
 "cells": [
  {
   "cell_type": "code",
   "execution_count": 89,
   "id": "981fdcc2",
   "metadata": {},
   "outputs": [],
   "source": [
    "import os\n",
    "import json\n",
    "from collections import OrderedDict"
   ]
  },
  {
   "cell_type": "code",
   "execution_count": 90,
   "id": "23b69535",
   "metadata": {},
   "outputs": [],
   "source": [
    "path_dir = 'new_pose_2/train/Model-Pose_f' #Parse 폴더에서 파일명 불러오기\n",
    "file_list_train = os.listdir(path_dir)\n",
    "file_list_train.sort()"
   ]
  },
  {
   "cell_type": "code",
   "execution_count": 91,
   "id": "cc5f64f4",
   "metadata": {},
   "outputs": [],
   "source": [
    "TRAIN_SIZE = len(file_list_train)"
   ]
  },
  {
   "cell_type": "code",
   "execution_count": 92,
   "id": "9dd58853",
   "metadata": {},
   "outputs": [],
   "source": [
    "file_data = OrderedDict()\n",
    "lists = []"
   ]
  },
  {
   "cell_type": "code",
   "execution_count": 93,
   "id": "182269b3",
   "metadata": {},
   "outputs": [
    {
     "data": {
      "text/plain": [
       "11629"
      ]
     },
     "execution_count": 93,
     "metadata": {},
     "output_type": "execute_result"
    }
   ],
   "source": [
    "TRAIN_SIZE"
   ]
  },
  {
   "cell_type": "code",
   "execution_count": 96,
   "id": "2169c946",
   "metadata": {},
   "outputs": [],
   "source": [
    "image_list = []\n",
    "annotations_list = []\n",
    "\n",
    "for i in range(TRAIN_SIZE):\n",
    "        with open(path_dir +'/'+ file_list_train[i], \"r\") as st_json:\n",
    "            load_data = json.load(st_json)\n",
    "        image_list.append( {'file_name':'%012d.jpg' % (i+200000), 'width' : 720, 'height':1280, 'id':i})\n",
    "        annotations_list.append({'num_keypoints':load_data.get('num_keypoints'), 'keypoints':load_data.get('landmarks'), 'image_id':i,'id':i, 'category_id':1, 'iscrowd':0, 'bbox':[0,0,720,1280]})"
   ]
  },
  {
   "cell_type": "code",
   "execution_count": 97,
   "id": "50804269",
   "metadata": {},
   "outputs": [],
   "source": [
    "file_data = OrderedDict()\n",
    "file_data[\"images\"] = image_list\n",
    "file_data[\"annotations\"] = annotations_list\n",
    "file_data[\"categories\"] = [{\"supercategory\": \"person\",\"id\": 1,\"name\": \"person\",\"keypoints\": [\"nose\",\"left_eye\",\"right_eye\",\"left_ear\",\"right_ear\",\"left_shoulder\",\"right_shoulder\",\"left_elbow\",\"right_elbow\",\"left_wrist\",\"right_wrist\",\"left_hip\",\"right_hip\",\"left_knee\",\"right_knee\",\"left_ankle\",\"right_ankle\"],\"skeleton\": [[16,14],[14,12],[17,15],[15,13],[12,13],[6,12],[7,13],[6,7],[6,8],[7,9],[8,10],[9,11],[2,3],[1,2],[1,3],[2,4],[3,5],[4,6],[5,7]]}]"
   ]
  },
  {
   "cell_type": "code",
   "execution_count": 98,
   "id": "de6641d2",
   "metadata": {},
   "outputs": [],
   "source": [
    "with open('train.json', \"w\", encoding=\"UTF-8\") as st_json:\n",
    "            json.dump(file_data, st_json, indent='\\t')"
   ]
  },
  {
   "cell_type": "code",
   "execution_count": null,
   "id": "70eb2523",
   "metadata": {},
   "outputs": [],
   "source": []
  }
 ],
 "metadata": {
  "kernelspec": {
   "display_name": "Python 3 (ipykernel)",
   "language": "python",
   "name": "python3"
  },
  "language_info": {
   "codemirror_mode": {
    "name": "ipython",
    "version": 3
   },
   "file_extension": ".py",
   "mimetype": "text/x-python",
   "name": "python",
   "nbconvert_exporter": "python",
   "pygments_lexer": "ipython3",
   "version": "3.8.10"
  }
 },
 "nbformat": 4,
 "nbformat_minor": 5
}
